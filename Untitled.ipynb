{
 "cells": [
  {
   "cell_type": "code",
   "execution_count": 3,
   "metadata": {},
   "outputs": [],
   "source": [
    "import numpy as np\n",
    "import matplotlib.pyplot as plt\n",
    "import ipywidgets as widgets\n",
    "import ipywidgets as widgets\n",
    "from ipywidgets import HBox, VBox\n",
    "import numpy as np\n",
    "import matplotlib.pyplot as plt\n",
    "from IPython.display import display\n",
    "import matplotlib.animation as animation\n",
    "%matplotlib inline\n"
   ]
  },
  {
   "cell_type": "markdown",
   "metadata": {},
   "source": [
    "# READ ME\n",
    "\n",
    "RUN TO PRODUCE FIGURE AND SLIDERS CORRESPONDING TO:\n",
    "\n",
    "alpha: power of the singular isothermal sphere approximation of the dark matter halo.\n",
    "\n",
    "$\\rho_{DM} = \\frac{R}{a}^{-\\alpha}$\n"
   ]
  },
  {
   "cell_type": "code",
   "execution_count": 4,
   "metadata": {},
   "outputs": [
    {
     "data": {
      "application/vnd.jupyter.widget-view+json": {
       "model_id": "9a2185a35e764a51aea0d92678fb6113"
      }
     },
     "metadata": {},
     "output_type": "display_data"
    }
   ],
   "source": [
    "R = np.arange(0.1,10,.1) # Radius from center\n",
    "\n",
    "G = 6.67*10**(-11) # Universal Gravitational Constant (SI units)\n",
    "a = np.trapz(R)\n",
    "M = []\n",
    "\n",
    "\n",
    "@widgets.interact\n",
    "def f(alpha =(0,3,0.05),dark_matter_scale_radius=(0.1,2,0.01),disk_scale_radius=(0.1,2,0.01),bulge_size=(0.00,2,0.01)):\n",
    "    M = []\n",
    "    M_disk = []\n",
    "    M_bulge = []\n",
    "    p = alpha\n",
    "    e = dark_matter_scale_radius\n",
    "    e2 = disk_scale_radius\n",
    "    e3 = bulge_size\n",
    "    for i in R:\n",
    "        r = np.arange(0.01,i, 0.001)\n",
    "        d = ((r)/e)**(-p)\n",
    "        d_disk = 10*np.exp(-r/e2)\n",
    "        d_bulge_falloff = 10*((r+e3))**(-3)\n",
    "        d_bulge_interior = r**0\n",
    "        M.append(4*np.pi*np.trapz(d*r**2,r))\n",
    "        M_disk.append(2*np.pi*np.trapz(d_disk*r,r))\n",
    "        M_bulge.append(4*np.pi*np.trapz(d_bulge_falloff*r**2,r))\n",
    "\n",
    "#        if i<e3:\n",
    "#            M_bulge.append(4*np.pi*np.trapz(d_bulge_interior*r**2,r))\n",
    "#        else:\n",
    "#            M_bulge.append(4*np.pi*np.trapz(d_bulge_falloff*r**2,r))     \n",
    "    M = np.array(M)\n",
    "    M_disk = np.array(M_disk)\n",
    "    M_bulge = np.array(M_bulge)\n",
    "    M_tot = []\n",
    "    for i in range(0, len(M)):\n",
    "        if e3>0:\n",
    "            M_tot.append(M[i] + M_disk[i] + M_bulge[i]) \n",
    "        elif e3 == 0:\n",
    "            M_tot.append(M[i] + M_disk[i])\n",
    "    M_tot = np.array(M_tot)\n",
    "    V = ((G*M)/(R))**(1/2)\n",
    "    V_disk = ((G*M_disk)/(R))**(1/2)\n",
    "    V_bulge = ((G*M_bulge)/(R))**(1/2)\n",
    "    V_tot = ((G*M_tot)/(R))**(1/2)\n",
    "    plt.plot(R,V, label = \"dark matter\")\n",
    "    plt.plot(R,V_disk, label=\"disk\")\n",
    "    plt.plot(R,V_tot, label = \"observed\")\n",
    "    if e3>0:\n",
    "        plt.plot(R,V_bulge)\n",
    "    plt.xlabel('Radius')\n",
    "    plt.ylabel('Orbital Velocity')\n",
    "    plt.legend(loc = 'lower right')\n",
    "    plt.show()\n",
    "# NEED TO ADD FRW density profile as well https://www.astro.umd.edu/~richard/ASTRO620/QM_chap5.pdf\n"
   ]
  },
  {
   "cell_type": "code",
   "execution_count": 3,
   "metadata": {},
   "outputs": [
    {
     "name": "stderr",
     "output_type": "stream",
     "text": [
      "/usr/lib/python3/dist-packages/ipykernel_launcher.py:1: RuntimeWarning: divide by zero encountered in true_divide\n",
      "  \"\"\"Entry point for launching an IPython kernel.\n"
     ]
    },
    {
     "data": {
      "text/plain": [
       "[<matplotlib.lines.Line2D at 0x7fcc68f1b048>]"
      ]
     },
     "execution_count": 3,
     "metadata": {},
     "output_type": "execute_result"
    },
    {
     "data": {
      "image/png": "[encoded data removed]",
      "text/plain": [
       "<Figure size 432x288 with 1 Axes>"
      ]
     },
     "metadata": {},
     "output_type": "display_data"
    }
   ],
   "source": [
    "d_NFW = 1/((R/1)*(1-R/1)**2)\n",
    "plt.plot(R,d_NFW)"
   ]
  }
 ],
 "metadata": {
  "kernelspec": {
   "display_name": "Python 3",
   "language": "python",
   "name": "python3"
  },
  "language_info": {
   "codemirror_mode": {
    "name": "ipython",
    "version": 3
   },
   "file_extension": ".py",
   "mimetype": "text/x-python",
   "name": "python",
   "nbconvert_exporter": "python",
   "pygments_lexer": "ipython3",
   "version": "3.6.7"
  }
 },
 "nbformat": 4,
 "nbformat_minor": 2
}
